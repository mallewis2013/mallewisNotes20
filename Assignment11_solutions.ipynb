{
 "cells": [
  {
   "cell_type": "markdown",
   "metadata": {},
   "source": [
    "# Feature Transformations - Assignment 11"
   ]
  },
  {
   "cell_type": "markdown",
   "metadata": {},
   "source": [
    "## Data and Package Import"
   ]
  },
  {
   "cell_type": "code",
   "execution_count": 1,
   "metadata": {},
   "outputs": [],
   "source": [
    "%matplotlib inline\n",
    "import numpy as np\n",
    "import pandas as pd\n",
    "import matplotlib.pyplot as plt"
   ]
  },
  {
   "cell_type": "code",
   "execution_count": 2,
   "metadata": {},
   "outputs": [],
   "source": [
    "perov = pd.read_csv('data/perovskite_data.csv')"
   ]
  },
  {
   "cell_type": "markdown",
   "metadata": {},
   "source": [
    "## 1. One-hot Encoding"
   ]
  },
  {
   "cell_type": "markdown",
   "metadata": {},
   "source": [
    "**Creat a matrix of one-hot encoded features.**  \n",
    "\n",
    "Use the `X` column of the perovskite dataset (corresponding to the identity of the `X` ion in the ABX$_3$ coumpound)."
   ]
  },
  {
   "cell_type": "code",
   "execution_count": 3,
   "metadata": {},
   "outputs": [],
   "source": [
    "X_onehot = pd.get_dummies(perov['X'])"
   ]
  },
  {
   "cell_type": "code",
   "execution_count": 4,
   "metadata": {},
   "outputs": [
    {
     "data": {
      "text/html": [
       "<div>\n",
       "<style scoped>\n",
       "    .dataframe tbody tr th:only-of-type {\n",
       "        vertical-align: middle;\n",
       "    }\n",
       "\n",
       "    .dataframe tbody tr th {\n",
       "        vertical-align: top;\n",
       "    }\n",
       "\n",
       "    .dataframe thead th {\n",
       "        text-align: right;\n",
       "    }\n",
       "</style>\n",
       "<table border=\"1\" class=\"dataframe\">\n",
       "  <thead>\n",
       "    <tr style=\"text-align: right;\">\n",
       "      <th></th>\n",
       "      <th>Br</th>\n",
       "      <th>Cl</th>\n",
       "      <th>F</th>\n",
       "      <th>I</th>\n",
       "      <th>O</th>\n",
       "    </tr>\n",
       "  </thead>\n",
       "  <tbody>\n",
       "    <tr>\n",
       "      <th>0</th>\n",
       "      <td>0</td>\n",
       "      <td>0</td>\n",
       "      <td>0</td>\n",
       "      <td>0</td>\n",
       "      <td>1</td>\n",
       "    </tr>\n",
       "    <tr>\n",
       "      <th>1</th>\n",
       "      <td>0</td>\n",
       "      <td>0</td>\n",
       "      <td>0</td>\n",
       "      <td>0</td>\n",
       "      <td>1</td>\n",
       "    </tr>\n",
       "    <tr>\n",
       "      <th>2</th>\n",
       "      <td>0</td>\n",
       "      <td>1</td>\n",
       "      <td>0</td>\n",
       "      <td>0</td>\n",
       "      <td>0</td>\n",
       "    </tr>\n",
       "    <tr>\n",
       "      <th>3</th>\n",
       "      <td>1</td>\n",
       "      <td>0</td>\n",
       "      <td>0</td>\n",
       "      <td>0</td>\n",
       "      <td>0</td>\n",
       "    </tr>\n",
       "    <tr>\n",
       "      <th>4</th>\n",
       "      <td>0</td>\n",
       "      <td>0</td>\n",
       "      <td>0</td>\n",
       "      <td>0</td>\n",
       "      <td>1</td>\n",
       "    </tr>\n",
       "  </tbody>\n",
       "</table>\n",
       "</div>"
      ],
      "text/plain": [
       "   Br  Cl  F  I  O\n",
       "0   0   0  0  0  1\n",
       "1   0   0  0  0  1\n",
       "2   0   1  0  0  0\n",
       "3   1   0  0  0  0\n",
       "4   0   0  0  0  1"
      ]
     },
     "execution_count": 4,
     "metadata": {},
     "output_type": "execute_result"
    }
   ],
   "source": [
    "X_onehot.head(5)"
   ]
  },
  {
   "cell_type": "markdown",
   "metadata": {},
   "source": [
    "**Print the dimensions of the matrix.**"
   ]
  },
  {
   "cell_type": "code",
   "execution_count": 5,
   "metadata": {},
   "outputs": [
    {
     "name": "stdout",
     "output_type": "stream",
     "text": [
      "(576, 5)\n"
     ]
    }
   ],
   "source": [
    "print(X_onehot.shape)"
   ]
  },
  {
   "cell_type": "markdown",
   "metadata": {},
   "source": [
    "**Print the sum across all rows for each feature.**"
   ]
  },
  {
   "cell_type": "code",
   "execution_count": 6,
   "metadata": {},
   "outputs": [
    {
     "name": "stdout",
     "output_type": "stream",
     "text": [
      "Br     27\n",
      "Cl     71\n",
      "F      66\n",
      "I      43\n",
      "O     369\n",
      "dtype: int64\n"
     ]
    }
   ],
   "source": [
    "print(X_onehot.sum(axis = 0))"
   ]
  },
  {
   "cell_type": "markdown",
   "metadata": {},
   "source": [
    "**One-hot encoding for a categorical variable**\n",
    "\n",
    "Consider a dataset consisting of a single categorical variable with a total of $N$ datapoints and corresponding outputs, $y$. Assume that each datapoint has a unique category label such that there are $N$ distinct categories. You apply one-hot encoding to create a new feature matrix, $\\bar{\\bar{X}}$ and decide to fit a linear regression model:\n",
    "\n",
    "$\\vec{y} = \\bar{\\bar{X}}\\vec{w}$\n",
    "\n",
    "What will the optimal values of $\\vec{w}$ be and the $R^2$ be? You can use code, math, or a conceptual explanation to answer this question."
   ]
  },
  {
   "cell_type": "markdown",
   "metadata": {},
   "source": [
    "> N datapoints with N distinct categories will result in an N x N feature matrix $\\bar{\\bar{X}}$ where all diagonal elements are 1 and others are 0. This is simply an identitiy matrix in which case $\\vec{w}$ will be exactly identical to $\\vec{y}$. Therefore, the optimal $\\vec{w}$ will be $\\vec{y}$ and the corresponding $r^2$ will be 1.0."
   ]
  },
  {
   "cell_type": "markdown",
   "metadata": {},
   "source": [
    "**Is this a reliable model? Briefly explain.**"
   ]
  },
  {
   "cell_type": "markdown",
   "metadata": {},
   "source": [
    "> This is not a reliable model. It just memorizes the $\\vec{y}$ such that it will break when a new kind of data is introduced."
   ]
  },
  {
   "cell_type": "markdown",
   "metadata": {},
   "source": [
    "## 2. PCA vs. LDA\n",
    "\n",
    "**Load the MNIST dataset.**"
   ]
  },
  {
   "cell_type": "code",
   "execution_count": 7,
   "metadata": {},
   "outputs": [],
   "source": [
    "from sklearn.datasets import load_digits\n",
    "\n",
    "digits = load_digits()\n",
    "\n",
    "X_mnist = np.array(digits.data)\n",
    "y_mnist = np.array(digits.target)"
   ]
  },
  {
   "cell_type": "markdown",
   "metadata": {},
   "source": [
    "**Use `PCA` on the MNIST dataset.**  \n",
    "\n",
    "Set `n_components` to 9."
   ]
  },
  {
   "cell_type": "code",
   "execution_count": 8,
   "metadata": {},
   "outputs": [],
   "source": [
    "from sklearn.decomposition import PCA\n",
    "\n",
    "pca = PCA(n_components = 9)\n",
    "X_pca = pca.fit_transform(X_mnist)"
   ]
  },
  {
   "cell_type": "markdown",
   "metadata": {},
   "source": [
    "**Apply k-means clustering to the PCA transformed data.**  \n",
    "\n",
    "Set `n_clusters` to 10."
   ]
  },
  {
   "cell_type": "code",
   "execution_count": 9,
   "metadata": {},
   "outputs": [],
   "source": [
    "from sklearn.cluster import KMeans\n",
    "\n",
    "kmeans = KMeans(n_clusters = 10)\n",
    "y_pca = kmeans.fit_predict(X_pca)"
   ]
  },
  {
   "cell_type": "markdown",
   "metadata": {},
   "source": [
    "**Assign a label to each cluster by using the most common label from the cluster.**  \n",
    "\n",
    "This step converts the clustering to a classification prediction. If the label 9 is most common in the cluster 1, all points belonging to that cluster should be labeled as 9. However, be aware that these labels may change if you re-run the clustering, so you probably want to assign them programatically rather than manually.\n",
    "\n",
    "*Hint: `np.bincount()` function may be helpful.*"
   ]
  },
  {
   "cell_type": "code",
   "execution_count": 10,
   "metadata": {},
   "outputs": [],
   "source": [
    "y_predict_pca = np.zeros(y_mnist.shape)\n",
    "\n",
    "for i in range(10):\n",
    "    collect_label = y_mnist[y_pca == i]\n",
    "    count_label = np.bincount(collect_label)\n",
    "    common_label = np.argmax(count_label)\n",
    "    \n",
    "    y_predict_pca[y_pca == i] = common_label"
   ]
  },
  {
   "cell_type": "markdown",
   "metadata": {},
   "source": [
    "**Create a confusion matrix based on the clustering result.**\n",
    "\n",
    "Plot the confusion matrix."
   ]
  },
  {
   "cell_type": "code",
   "execution_count": 11,
   "metadata": {},
   "outputs": [
    {
     "data": {
      "image/png": "[encoded data removed]",
      "text/plain": [
       "<Figure size 900x750 with 2 Axes>"
      ]
     },
     "metadata": {
      "needs_background": "light"
     },
     "output_type": "display_data"
    }
   ],
   "source": [
    "from sklearn.metrics import confusion_matrix\n",
    "import seaborn as sns\n",
    "\n",
    "cm = confusion_matrix(y_mnist, y_predict_pca)\n",
    "\n",
    "fig, ax = plt.subplots(figsize = (6, 5), dpi = 150)\n",
    "sns.heatmap(cm, annot = True, fmt = 'd', ax = ax);"
   ]
  },
  {
   "cell_type": "markdown",
   "metadata": {},
   "source": [
    "**Follow the same steps using `LDA` instead of `PCA`.**\n",
    "- Use `LDA` on the MNIST dataset.\n",
    "- Apply k-means clustering.\n",
    "- Assign labels.\n",
    "- Plot the resulting matrix."
   ]
  },
  {
   "cell_type": "code",
   "execution_count": 12,
   "metadata": {},
   "outputs": [
    {
     "data": {
      "image/png": "[encoded data removed]",
      "text/plain": [
       "<Figure size 900x750 with 2 Axes>"
      ]
     },
     "metadata": {
      "needs_background": "light"
     },
     "output_type": "display_data"
    }
   ],
   "source": [
    "from sklearn.discriminant_analysis import LinearDiscriminantAnalysis\n",
    "\n",
    "lda = LinearDiscriminantAnalysis()\n",
    "lda.fit(X_mnist, y_mnist)\n",
    "X_lda = lda.transform(X_mnist)\n",
    "\n",
    "kmeans = KMeans(n_clusters = 10)\n",
    "y_lda = kmeans.fit_predict(X_lda)\n",
    "\n",
    "y_predict_lda = np.zeros(y_mnist.shape)\n",
    "\n",
    "for i in range(10):\n",
    "    collect_label = y_mnist[y_lda == i]\n",
    "    count_label = np.bincount(collect_label)\n",
    "    common_label = np.argmax(count_label)\n",
    "    \n",
    "    y_predict_lda[y_lda == i] = common_label\n",
    "\n",
    "fig, ax = plt.subplots(figsize = (6, 5), dpi = 150)\n",
    "cm = confusion_matrix(y_mnist, y_predict_lda)\n",
    "sns.heatmap(cm, annot = True, fmt = 'd', ax = ax);"
   ]
  },
  {
   "cell_type": "markdown",
   "metadata": {},
   "source": [
    "**Briefly discuss the results.**"
   ]
  },
  {
   "cell_type": "markdown",
   "metadata": {},
   "source": [
    "> Clustering performs much better for the LDA-projectd data compared to the PCA-projected data. While the PCA-projected data struggles identifying 1 and 9, there are much less mispredictions for the LDA-projected data."
   ]
  },
  {
   "cell_type": "markdown",
   "metadata": {},
   "source": [
    "## 3. Symbolic Classification"
   ]
  },
  {
   "cell_type": "markdown",
   "metadata": {},
   "source": [
    "**Drop `ABX3`, `t` and `tau` features of the perovskite dataset.**"
   ]
  },
  {
   "cell_type": "code",
   "execution_count": 13,
   "metadata": {},
   "outputs": [],
   "source": [
    "dropped_perov = perov.drop(['ABX3', 't', 'tau', 'exp_label'], axis = 1)\n",
    "y = perov['exp_label']"
   ]
  },
  {
   "cell_type": "markdown",
   "metadata": {},
   "source": [
    "**Apply one-hot encoding to `dropped_perov`.**"
   ]
  },
  {
   "cell_type": "code",
   "execution_count": 14,
   "metadata": {},
   "outputs": [],
   "source": [
    "one_hot_perov = pd.get_dummies(dropped_perov)"
   ]
  },
  {
   "cell_type": "markdown",
   "metadata": {},
   "source": [
    "**Do a train/test split with `test_size`=0.3.**"
   ]
  },
  {
   "cell_type": "code",
   "execution_count": 15,
   "metadata": {},
   "outputs": [],
   "source": [
    "from sklearn.model_selection import train_test_split\n",
    "\n",
    "X_train, X_test, y_train, y_test = train_test_split(one_hot_perov, y, test_size = 0.3)"
   ]
  },
  {
   "cell_type": "markdown",
   "metadata": {},
   "source": [
    "**Train a `autofeat` classifier.**  \n",
    "\n",
    "Use `transforms` below for the non-linear transformations."
   ]
  },
  {
   "cell_type": "code",
   "execution_count": 16,
   "metadata": {},
   "outputs": [],
   "source": [
    "from autofeat import AutoFeatClassifier"
   ]
  },
  {
   "cell_type": "code",
   "execution_count": 17,
   "metadata": {
    "scrolled": false
   },
   "outputs": [
    {
     "name": "stdout",
     "output_type": "stream",
     "text": [
      "[AutoFeat] Warning: This just calls fit_transform() but does not return the transformed dataframe.\n",
      "[AutoFeat] It is much more efficient to call fit_transform() instead of fit() and transform()!\n",
      "[AutoFeat] The 2 step feature engineering process could generate up to 129286 features.\n",
      "[AutoFeat] With 403 data points this new feature matrix would use about 0.21 gb of space.\n",
      "[feateng] Step 1: transformation of original features\n",
      "[feateng] Generated 20 transformed features from 127 original features - done.\n",
      "[feateng] Step 2: first combination of features\n",
      "[feateng] Generated 2720 feature combinations from 10731 original feature tuples - done.\n",
      "[feateng] Generated altogether 10735 new features in 2 steps\n",
      "[feateng] Removing correlated features, as well as additions at the highest level\n"
     ]
    },
    {
     "name": "stderr",
     "output_type": "stream",
     "text": [
      "/Users/SihoonChoi/opt/anaconda3/lib/python3.7/site-packages/sympy/__init__.py:676: SymPyDeprecationWarning: \n",
      "\n",
      "importing sympy.core.add with 'from sympy import *' has been\n",
      "deprecated since SymPy 1.6. Use import sympy.core.add instead. See\n",
      "https://github.com/sympy/sympy/issues/18245 for more info.\n",
      "\n",
      "  deprecated_since_version=\"1.6\").warn()\n"
     ]
    },
    {
     "name": "stdout",
     "output_type": "stream",
     "text": [
      "[feateng] Generated a total of 1189 additional features\n",
      "[featsel] Scaling data...done.\n",
      "[featsel] Feature selection run 1/1\n",
      "[featsel] 2 features after 1 feature selection runs\n",
      "[featsel] 2 features after correlation filtering\n",
      "[featsel] 2 features after noise filtering\n",
      "[AutoFeat] Computing 2 new features.\n",
      "[AutoFeat]     2/    2 new features ...done.\n",
      "[AutoFeat] Final dataframe with 129 feature columns (2 new).\n",
      "[AutoFeat] Training final classification model.\n",
      "[AutoFeat] Trained model: largest coefficients:\n",
      "[0.23273175]\n",
      "0.139453 * 1/(nB*rBAng)\n",
      "0.124414 * rXAng/rAAng\n",
      "[AutoFeat] Final score: 0.7270\n"
     ]
    },
    {
     "data": {
      "text/plain": [
       "AutoFeatClassifier(featsel_runs=1, transformations=['1/', 'exp', '^2', '^3'],\n",
       "                   verbose=1)"
      ]
     },
     "execution_count": 17,
     "metadata": {},
     "output_type": "execute_result"
    }
   ],
   "source": [
    "transforms = ['1/', 'exp', '^2', '^3']\n",
    "\n",
    "autoClass = AutoFeatClassifier(verbose = 1, feateng_steps = 2, featsel_runs = 1, transformations = transforms)\n",
    "autoClass.fit(X_train, y_train)"
   ]
  },
  {
   "cell_type": "markdown",
   "metadata": {},
   "source": [
    "**Print the 5 most important features.**"
   ]
  },
  {
   "cell_type": "code",
   "execution_count": 18,
   "metadata": {},
   "outputs": [
    {
     "name": "stdout",
     "output_type": "stream",
     "text": [
      "5 most important features: \n",
      "\n",
      "rXAng/rAAng\n",
      "1/(nB*rBAng)\n"
     ]
    }
   ],
   "source": [
    "# Resulting new features and good_cols_ heavily depend on randomness of train_test_split\n",
    "# Please don't deduct points just because the features are different from yours or mine\n",
    "\n",
    "print('5 most important features: \\n')\n",
    "for feat in autoClass.good_cols_[:5]:\n",
    "    print(feat)"
   ]
  },
  {
   "cell_type": "markdown",
   "metadata": {},
   "source": [
    "**Print the accuracy on the test set.**"
   ]
  },
  {
   "cell_type": "code",
   "execution_count": 19,
   "metadata": {},
   "outputs": [
    {
     "name": "stdout",
     "output_type": "stream",
     "text": [
      "[AutoFeat] Computing 2 new features.\n",
      "[AutoFeat]     0/    2 new features\r",
      "[AutoFeat]     1/    2 new features\r",
      "[AutoFeat]     2/    2 new features ...done.\n"
     ]
    },
    {
     "data": {
      "text/plain": [
       "0.7283236994219653"
      ]
     },
     "execution_count": 19,
     "metadata": {},
     "output_type": "execute_result"
    }
   ],
   "source": [
    "autoClass.score(X_test, y_test)"
   ]
  }
 ],
 "metadata": {
  "kernelspec": {
   "display_name": "Python 3",
   "language": "python",
   "name": "python3"
  },
  "language_info": {
   "codemirror_mode": {
    "name": "ipython",
    "version": 3
   },
   "file_extension": ".py",
   "mimetype": "text/x-python",
   "name": "python",
   "nbconvert_exporter": "python",
   "pygments_lexer": "ipython3",
   "version": "3.7.9"
  },
  "latex_envs": {
   "LaTeX_envs_menu_present": true,
   "autoclose": false,
   "autocomplete": true,
   "bibliofile": "biblio.bib",
   "cite_by": "apalike",
   "current_citInitial": 1,
   "eqLabelWithNumbers": true,
   "eqNumInitial": 1,
   "hotkeys": {
    "equation": "Ctrl-E",
    "itemize": "Ctrl-I"
   },
   "labels_anchors": false,
   "latex_user_defs": false,
   "report_style_numbering": false,
   "user_envs_cfg": false
  },
  "toc": {
   "base_numbering": 1,
   "nav_menu": {},
   "number_sections": true,
   "sideBar": true,
   "skip_h1_title": true,
   "title_cell": "Table of Contents",
   "title_sidebar": "Contents",
   "toc_cell": true,
   "toc_position": {},
   "toc_section_display": true,
   "toc_window_display": false
  }
 },
 "nbformat": 4,
 "nbformat_minor": 4
}
