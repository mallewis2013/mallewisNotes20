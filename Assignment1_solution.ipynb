{
 "cells": [
  {
   "cell_type": "markdown",
   "metadata": {},
   "source": [
    "# Numerical Methods - Assignment 1"
   ]
  },
  {
   "cell_type": "markdown",
   "metadata": {},
   "source": [
    "## 1. Python and MATLAB\n",
    "List at least 3 differences between Python and MATLAB."
   ]
  },
  {
   "cell_type": "markdown",
   "metadata": {},
   "source": []
  },
  {
   "cell_type": "markdown",
   "metadata": {},
   "source": [
    "## 2. Plot Data\n",
    "**Read the data and create a plot.**\n",
    "- Import `matplotlib` and `pandas` packages.\n",
    "- Read in `data/ethanol_IR.csv` file and create a plot of IR spectra data."
   ]
  },
  {
   "cell_type": "code",
   "execution_count": 1,
   "metadata": {},
   "outputs": [],
   "source": [
    "import matplotlib.pyplot as plt\n",
    "import pandas as pd\n",
    "\n",
    "df = pd.read_csv('data/ethanol_IR.csv')"
   ]
  },
  {
   "cell_type": "code",
   "execution_count": 2,
   "metadata": {},
   "outputs": [],
   "source": [
    "x = df['wavenumber [cm^-1]']\n",
    "y = df['absorbance']"
   ]
  },
  {
   "cell_type": "code",
   "execution_count": 3,
   "metadata": {},
   "outputs": [
    {
     "data": {
      "image/png": "[encoded data removed]",
      "text/plain": [
       "<Figure size 432x288 with 1 Axes>"
      ]
     },
     "metadata": {
      "needs_background": "light"
     },
     "output_type": "display_data"
    }
   ],
   "source": [
    "fig, ax = plt.subplots()\n",
    "ax.plot(x, y)\n",
    "ax.set_xlabel('wavenumber (cm$^{-1}$)')\n",
    "ax.set_ylabel('absorbance')\n",
    "ax.set_title('absorbance vs. wavenumber');"
   ]
  },
  {
   "cell_type": "markdown",
   "metadata": {},
   "source": [
    "**Briefly describe the most prominent peaks in the dataset.**"
   ]
  },
  {
   "cell_type": "markdown",
   "metadata": {},
   "source": []
  },
  {
   "cell_type": "markdown",
   "metadata": {},
   "source": [
    "## 3. Matrix-vector Multiplication\n",
    "**Write a funcion that uses `for` loops.**\n",
    "\n",
    "This function should multiply an arbitrary matrix and vector."
   ]
  },
  {
   "cell_type": "code",
   "execution_count": 4,
   "metadata": {},
   "outputs": [],
   "source": [
    "def mulMatVec(matrix, vector):\n",
    "    result = []\n",
    "    \n",
    "    for i in range(matrix.shape[0]):\n",
    "        dot = 0\n",
    "        \n",
    "        for j in range(matrix.shape[1]):\n",
    "            dot += matrix[i][j] * vector[j]\n",
    "            \n",
    "        result.append(dot)\n",
    "        \n",
    "    result = np.array(result)\n",
    "    return result"
   ]
  },
  {
   "cell_type": "markdown",
   "metadata": {},
   "source": [
    "You can use the matrix and vector given below."
   ]
  },
  {
   "cell_type": "code",
   "execution_count": 5,
   "metadata": {},
   "outputs": [],
   "source": [
    "import numpy as np\n",
    "\n",
    "A = np.array([[1, 2], [-4, 5]])\n",
    "B = np.array([-2, 3])"
   ]
  },
  {
   "cell_type": "markdown",
   "metadata": {},
   "source": [
    "Or create an arbitrary set of matrix and vector using `numpy.random.rand`."
   ]
  },
  {
   "cell_type": "code",
   "execution_count": 6,
   "metadata": {
    "scrolled": true
   },
   "outputs": [],
   "source": [
    "from numpy.random import rand\n",
    "\n",
    "# You can create your own inputs"
   ]
  },
  {
   "cell_type": "markdown",
   "metadata": {},
   "source": [
    "**Show that your function is correct using `numpy.isclose`.**"
   ]
  },
  {
   "cell_type": "code",
   "execution_count": 7,
   "metadata": {},
   "outputs": [
    {
     "data": {
      "text/plain": [
       "array([ True,  True])"
      ]
     },
     "execution_count": 7,
     "metadata": {},
     "output_type": "execute_result"
    }
   ],
   "source": [
    "np.isclose(mulMatVec(A, B), np.dot(A, B))"
   ]
  },
  {
   "cell_type": "markdown",
   "metadata": {},
   "source": [
    "## 4. Vandermonde Matrix\n",
    "**Use `numpy.hstack` to construct a 4th-order Vandermonde matrix.**\n",
    "\n",
    "Range should be from -1 to 1 with a resolution of 25 (i.e. the number of rows should be 25)."
   ]
  },
  {
   "cell_type": "code",
   "execution_count": 8,
   "metadata": {},
   "outputs": [
    {
     "name": "stdout",
     "output_type": "stream",
     "text": [
      "[[ 1.00000000e+00 -1.00000000e+00  1.00000000e+00 -1.00000000e+00\n",
      "   1.00000000e+00]\n",
      " [ 1.00000000e+00 -9.16666667e-01  8.40277778e-01 -7.70254630e-01\n",
      "   7.06066744e-01]\n",
      " [ 1.00000000e+00 -8.33333333e-01  6.94444444e-01 -5.78703704e-01\n",
      "   4.82253086e-01]\n",
      " [ 1.00000000e+00 -7.50000000e-01  5.62500000e-01 -4.21875000e-01\n",
      "   3.16406250e-01]\n",
      " [ 1.00000000e+00 -6.66666667e-01  4.44444444e-01 -2.96296296e-01\n",
      "   1.97530864e-01]\n",
      " [ 1.00000000e+00 -5.83333333e-01  3.40277778e-01 -1.98495370e-01\n",
      "   1.15788966e-01]\n",
      " [ 1.00000000e+00 -5.00000000e-01  2.50000000e-01 -1.25000000e-01\n",
      "   6.25000000e-02]\n",
      " [ 1.00000000e+00 -4.16666667e-01  1.73611111e-01 -7.23379630e-02\n",
      "   3.01408179e-02]\n",
      " [ 1.00000000e+00 -3.33333333e-01  1.11111111e-01 -3.70370370e-02\n",
      "   1.23456790e-02]\n",
      " [ 1.00000000e+00 -2.50000000e-01  6.25000000e-02 -1.56250000e-02\n",
      "   3.90625000e-03]\n",
      " [ 1.00000000e+00 -1.66666667e-01  2.77777778e-02 -4.62962963e-03\n",
      "   7.71604938e-04]\n",
      " [ 1.00000000e+00 -8.33333333e-02  6.94444444e-03 -5.78703704e-04\n",
      "   4.82253086e-05]\n",
      " [ 1.00000000e+00  0.00000000e+00  0.00000000e+00  0.00000000e+00\n",
      "   0.00000000e+00]\n",
      " [ 1.00000000e+00  8.33333333e-02  6.94444444e-03  5.78703704e-04\n",
      "   4.82253086e-05]\n",
      " [ 1.00000000e+00  1.66666667e-01  2.77777778e-02  4.62962963e-03\n",
      "   7.71604938e-04]\n",
      " [ 1.00000000e+00  2.50000000e-01  6.25000000e-02  1.56250000e-02\n",
      "   3.90625000e-03]\n",
      " [ 1.00000000e+00  3.33333333e-01  1.11111111e-01  3.70370370e-02\n",
      "   1.23456790e-02]\n",
      " [ 1.00000000e+00  4.16666667e-01  1.73611111e-01  7.23379630e-02\n",
      "   3.01408179e-02]\n",
      " [ 1.00000000e+00  5.00000000e-01  2.50000000e-01  1.25000000e-01\n",
      "   6.25000000e-02]\n",
      " [ 1.00000000e+00  5.83333333e-01  3.40277778e-01  1.98495370e-01\n",
      "   1.15788966e-01]\n",
      " [ 1.00000000e+00  6.66666667e-01  4.44444444e-01  2.96296296e-01\n",
      "   1.97530864e-01]\n",
      " [ 1.00000000e+00  7.50000000e-01  5.62500000e-01  4.21875000e-01\n",
      "   3.16406250e-01]\n",
      " [ 1.00000000e+00  8.33333333e-01  6.94444444e-01  5.78703704e-01\n",
      "   4.82253086e-01]\n",
      " [ 1.00000000e+00  9.16666667e-01  8.40277778e-01  7.70254630e-01\n",
      "   7.06066744e-01]\n",
      " [ 1.00000000e+00  1.00000000e+00  1.00000000e+00  1.00000000e+00\n",
      "   1.00000000e+00]]\n"
     ]
    }
   ],
   "source": [
    "resolution = 25\n",
    "\n",
    "xi = np.linspace(-1, 1, 25).reshape(-1, 1)\n",
    "\n",
    "X_vdm = np.hstack((xi**0, xi**1, xi**2, xi**3, xi**4))\n",
    "\n",
    "print(X_vdm)"
   ]
  },
  {
   "cell_type": "markdown",
   "metadata": {},
   "source": [
    "**Create an orthonormal version of the Vandermonde matrix.**\n",
    "\n",
    "Orthonormal means:\n",
    "- the $L_2$ norm of each column is 1.\n",
    "- the inner product between any 2 columns is 0.\n",
    "\n",
    "Print the orthonormalized Vandermonde matrix."
   ]
  },
  {
   "cell_type": "code",
   "execution_count": 9,
   "metadata": {},
   "outputs": [
    {
     "name": "stdout",
     "output_type": "stream",
     "text": [
      "[[ 2.00000000e-01 -3.32820118e-01  3.96566460e-01 -4.15922412e-01\n",
      "   4.01324069e-01]\n",
      " [ 2.00000000e-01 -3.05085108e-01  2.97424845e-01 -2.07961206e-01\n",
      "   6.68873448e-02]\n",
      " [ 2.00000000e-01 -2.77350098e-01  2.06904240e-01 -4.52089579e-02\n",
      "  -1.36682835e-01]\n",
      " [ 2.00000000e-01 -2.49615088e-01  1.25004645e-01  7.64442378e-02\n",
      "  -2.37146040e-01]\n",
      " [ 2.00000000e-01 -2.21880078e-01  5.17260600e-02  1.61108286e-01\n",
      "  -2.59618073e-01]\n",
      " [ 2.00000000e-01 -1.94145069e-01 -1.29315150e-02  2.12893092e-01\n",
      "  -2.26570966e-01]\n",
      " [ 2.00000000e-01 -1.66410059e-01 -6.89680800e-02  2.35908562e-01\n",
      "  -1.57832983e-01]\n",
      " [ 2.00000000e-01 -1.38675049e-01 -1.16383635e-01  2.34264600e-01\n",
      "  -7.05886207e-02]\n",
      " [ 2.00000000e-01 -1.10940039e-01 -1.55178180e-01  2.12071111e-01\n",
      "   2.06213948e-02]\n",
      " [ 2.00000000e-01 -8.32050294e-02 -1.85351715e-01  1.73438002e-01\n",
      "   1.03900105e-01]\n",
      " [ 2.00000000e-01 -5.54700196e-02 -2.06904240e-01  1.22475177e-01\n",
      "   1.69994319e-01]\n",
      " [ 2.00000000e-01 -2.77350098e-02 -2.19835755e-01  6.32925410e-02\n",
      "   2.12294616e-01]\n",
      " [ 2.00000000e-01  1.47801823e-17 -2.24146260e-01  4.85239842e-17\n",
      "   2.26835343e-01]\n",
      " [ 2.00000000e-01  2.77350098e-02 -2.19835755e-01 -6.32925410e-02\n",
      "   2.12294616e-01]\n",
      " [ 2.00000000e-01  5.54700196e-02 -2.06904240e-01 -1.22475177e-01\n",
      "   1.69994319e-01]\n",
      " [ 2.00000000e-01  8.32050294e-02 -1.85351715e-01 -1.73438002e-01\n",
      "   1.03900105e-01]\n",
      " [ 2.00000000e-01  1.10940039e-01 -1.55178180e-01 -2.12071111e-01\n",
      "   2.06213948e-02]\n",
      " [ 2.00000000e-01  1.38675049e-01 -1.16383635e-01 -2.34264600e-01\n",
      "  -7.05886207e-02]\n",
      " [ 2.00000000e-01  1.66410059e-01 -6.89680800e-02 -2.35908562e-01\n",
      "  -1.57832983e-01]\n",
      " [ 2.00000000e-01  1.94145069e-01 -1.29315150e-02 -2.12893092e-01\n",
      "  -2.26570966e-01]\n",
      " [ 2.00000000e-01  2.21880078e-01  5.17260600e-02 -1.61108286e-01\n",
      "  -2.59618073e-01]\n",
      " [ 2.00000000e-01  2.49615088e-01  1.25004645e-01 -7.64442378e-02\n",
      "  -2.37146040e-01]\n",
      " [ 2.00000000e-01  2.77350098e-01  2.06904240e-01  4.52089579e-02\n",
      "  -1.36682835e-01]\n",
      " [ 2.00000000e-01  3.05085108e-01  2.97424845e-01  2.07961206e-01\n",
      "   6.68873448e-02]\n",
      " [ 2.00000000e-01  3.32820118e-01  3.96566460e-01  4.15922412e-01\n",
      "   4.01324069e-01]]\n"
     ]
    }
   ],
   "source": [
    "# Gram-Schmidt Process\n",
    "\n",
    "ortho_1 = X_vdm[:, 0]\n",
    "ortho_2 = X_vdm[:, 1] - np.dot(ortho_1, X_vdm[:, 1]) / np.dot(ortho_1, ortho_1) * ortho_1\n",
    "ortho_3 = X_vdm[:, 2] - np.dot(ortho_1, X_vdm[:, 2]) / np.dot(ortho_1, ortho_1) * ortho_1 - np.dot(ortho_2, X_vdm[:, 2]) / np.dot(ortho_2, ortho_2) * ortho_2\n",
    "ortho_4 = X_vdm[:, 3] - np.dot(ortho_1, X_vdm[:, 3]) / np.dot(ortho_1, ortho_1) * ortho_1 - np.dot(ortho_2, X_vdm[:, 3]) / np.dot(ortho_2, ortho_2) * ortho_2 - np.dot(ortho_3, X_vdm[:, 3]) / np.dot(ortho_3, ortho_3) * ortho_3\n",
    "ortho_5 = X_vdm[:, 4] - np.dot(ortho_1, X_vdm[:, 4]) / np.dot(ortho_1, ortho_1) * ortho_1 - np.dot(ortho_2, X_vdm[:, 4]) / np.dot(ortho_2, ortho_2) * ortho_2 - np.dot(ortho_3, X_vdm[:, 4]) / np.dot(ortho_3, ortho_3) * ortho_3 - np.dot(ortho_4, X_vdm[:, 4]) / np.dot(ortho_4, ortho_4) * ortho_4\n",
    "\n",
    "# Normalizing columns\n",
    "\n",
    "orthoNorm_1 = ortho_1 / np.linalg.norm(ortho_1, 2)\n",
    "orthoNorm_2 = ortho_2 / np.linalg.norm(ortho_2, 2)\n",
    "orthoNorm_3 = ortho_3 / np.linalg.norm(ortho_3, 2)\n",
    "orthoNorm_4 = ortho_4 / np.linalg.norm(ortho_4, 2)\n",
    "orthoNorm_5 = ortho_5 / np.linalg.norm(ortho_5, 2)\n",
    "\n",
    "# Change to columns\n",
    "\n",
    "orthoNorm_1 = orthoNorm_1.reshape(-1, 1)\n",
    "orthoNorm_2 = orthoNorm_2.reshape(-1, 1)\n",
    "orthoNorm_3 = orthoNorm_3.reshape(-1, 1)\n",
    "orthoNorm_4 = orthoNorm_4.reshape(-1, 1)\n",
    "orthoNorm_5 = orthoNorm_5.reshape(-1, 1)\n",
    "\n",
    "# Build a matrix\n",
    "\n",
    "X_vdm_orthonorm = np.hstack((orthoNorm_1, orthoNorm_2, orthoNorm_3, orthoNorm_4, orthoNorm_5))\n",
    "print(X_vdm_orthonorm)"
   ]
  },
  {
   "cell_type": "markdown",
   "metadata": {},
   "source": [
    "**Short version**"
   ]
  },
  {
   "cell_type": "code",
   "execution_count": 10,
   "metadata": {},
   "outputs": [],
   "source": [
    "X_vdm_ortho = [X_vdm[:, 0] / np.linalg.norm(X_vdm[:, 0], 2)]\n",
    "\n",
    "for i in range(1, X_vdm.shape[1]):\n",
    "    gramSchmidt = X_vdm[:, i]\n",
    "    \n",
    "    for j in range(i):\n",
    "        gramSchmidt -= np.dot(X_vdm[:, i], X_vdm_ortho[j]) * X_vdm_ortho[j]\n",
    "        \n",
    "    X_vdm_ortho.append(gramSchmidt / np.linalg.norm(gramSchmidt, 2))\n",
    "\n",
    "X_vdm_ortho = np.array(X_vdm_ortho)\n",
    "X_vdm_ortho = X_vdm_ortho.T"
   ]
  },
  {
   "cell_type": "code",
   "execution_count": 11,
   "metadata": {},
   "outputs": [
    {
     "data": {
      "text/plain": [
       "True"
      ]
     },
     "execution_count": 11,
     "metadata": {},
     "output_type": "execute_result"
    }
   ],
   "source": [
    "np.isclose(X_vdm_ortho, X_vdm_orthonorm).all()"
   ]
  },
  {
   "cell_type": "markdown",
   "metadata": {},
   "source": [
    "**Show that the $L_2$ of 5th column is 1.**"
   ]
  },
  {
   "cell_type": "code",
   "execution_count": 12,
   "metadata": {},
   "outputs": [
    {
     "name": "stdout",
     "output_type": "stream",
     "text": [
      "1.0\n"
     ]
    }
   ],
   "source": [
    "print(np.linalg.norm(X_vdm_orthonorm[:, 4], 2))"
   ]
  },
  {
   "cell_type": "markdown",
   "metadata": {},
   "source": [
    "**Show that the inner product between 1st column & 4th column is 0.**"
   ]
  },
  {
   "cell_type": "code",
   "execution_count": 13,
   "metadata": {},
   "outputs": [
    {
     "name": "stdout",
     "output_type": "stream",
     "text": [
      "2.0816681711721685e-17\n",
      "True\n"
     ]
    }
   ],
   "source": [
    "inn_prod = np.dot(X_vdm_orthonorm[:, 0], X_vdm_orthonorm[:, 3])\n",
    "print(inn_prod)\n",
    "print(np.isclose(0, inn_prod))"
   ]
  },
  {
   "cell_type": "markdown",
   "metadata": {},
   "source": [
    "**Compute the rank of the orthonormalized Vandermonde matrix.**"
   ]
  },
  {
   "cell_type": "code",
   "execution_count": 14,
   "metadata": {},
   "outputs": [
    {
     "name": "stdout",
     "output_type": "stream",
     "text": [
      "5\n"
     ]
    }
   ],
   "source": [
    "print(np.linalg.matrix_rank(X_vdm_orthonorm))"
   ]
  },
  {
   "cell_type": "markdown",
   "metadata": {},
   "source": [
    "**Show that the rank is equal to the number of columns.**"
   ]
  },
  {
   "cell_type": "code",
   "execution_count": 15,
   "metadata": {},
   "outputs": [
    {
     "name": "stdout",
     "output_type": "stream",
     "text": [
      "The rank of the matrix: 5\n",
      "The number of columns: 5\n"
     ]
    }
   ],
   "source": [
    "print('The rank of the matrix: {}'.format(np.linalg.matrix_rank(X_vdm_orthonorm)))\n",
    "print('The number of columns: {}'.format(X_vdm_orthonorm.shape[1]))"
   ]
  },
  {
   "cell_type": "markdown",
   "metadata": {},
   "source": [
    "**Change the resolution to 30 and show that the rank is independent of the number of rows.**"
   ]
  },
  {
   "cell_type": "code",
   "execution_count": 16,
   "metadata": {},
   "outputs": [
    {
     "name": "stdout",
     "output_type": "stream",
     "text": [
      "The rank of the new matrix: 5\n",
      "The number of rows of the old matrix: 25\n",
      "The number of rows of the new matrix: 30\n"
     ]
    }
   ],
   "source": [
    "xi_new = np.linspace(-1, 1, 30).reshape(-1, 1)\n",
    "\n",
    "X_vdm_new = np.hstack((xi_new**0, xi_new**1, xi_new**2, xi_new**3, xi_new**4))\n",
    "\n",
    "print('The rank of the new matrix: {}'.format(np.linalg.matrix_rank(X_vdm_new)))\n",
    "print('The number of rows of the old matrix: {}'.format(X_vdm_orthonorm.shape[0]))\n",
    "print('The number of rows of the new matrix: {}'.format(X_vdm_new.shape[0]))"
   ]
  }
 ],
 "metadata": {
  "kernelspec": {
   "display_name": "Python 3",
   "language": "python",
   "name": "python3"
  },
  "language_info": {
   "codemirror_mode": {
    "name": "ipython",
    "version": 3
   },
   "file_extension": ".py",
   "mimetype": "text/x-python",
   "name": "python",
   "nbconvert_exporter": "python",
   "pygments_lexer": "ipython3",
   "version": "3.7.7"
  }
 },
 "nbformat": 4,
 "nbformat_minor": 4
}
